{
 "cells": [
  {
   "cell_type": "markdown",
   "metadata": {},
   "source": [
    "# Schr&ouml;dinger's Equation"
   ]
  },
  {
   "cell_type": "markdown",
   "metadata": {
    "tags": [
     "remove-cell"
    ]
   },
   "source": [
    "\n",
    "### Peter Onyisi\n",
    "<img src=\"images/texas_logo.png\" width=\"400\" align=\"left\"/>"
   ]
  },
  {
   "cell_type": "code",
   "execution_count": 2,
   "metadata": {
    "tags": [
     "remove-cell"
    ]
   },
   "outputs": [],
   "source": [
    "import matplotlib.pyplot as plt\n",
    "import matplotlib\n",
    "matplotlib.rcParams['figure.figsize'] = (8,6)\n",
    "matplotlib.rcParams['font.size'] = 16\n",
    "matplotlib.rcParams['animation.embed_limit'] = 60\n",
    "matplotlib.rcParams['xtick.top'] = True\n",
    "matplotlib.rcParams['ytick.right'] = True\n",
    "import math\n",
    "import numpy\n",
    "from matplotlib import animation"
   ]
  },
  {
   "cell_type": "markdown",
   "metadata": {},
   "source": [
    "## The Dynamics of Wave Functions\n",
    "\n",
    "So far we've discussed what wave functions might describe different particle configurations. We haven't talked about how they actually evolve with time - i.e., their *dynamics*. For classical particles, this is handled by Newton's Second Law:\n",
    "\n",
    "$$ m\\frac{d^2 x}{dt^2} = F(x) = -\\frac{dV}{dx} $$\n",
    "\n",
    "in one dimension (where $V$ is the potential energy describing $F$, assuming we're only using conservative forces); in three dimensions we would write\n",
    "\n",
    "$$ m\\frac{d\\vec{x}}{dt} = \\vec{F}(\\vec{x}) = -\\nabla V(\\vec{x}) $$\n",
    "\n",
    "The equivalent for wave functions is a *partial differential equation*, the *time-dependent Schr&ouml;dinger equation*. For one dimension it is:\n",
    "\n",
    "$$ i\\hbar \\frac{\\partial \\psi}{\\partial t} = -\\frac{\\hbar^2}{2m}\\frac{\\partial^2 \\psi}{\\partial x^2} + V(x)\\psi(x) $$\n",
    "\n",
    "where we have $\\hbar = h/2\\pi$ and $V(x)$ is the potential energy as a function of $x$. Here we now allow the wave function to be a function of both position $x$ and time $t$: $\\psi = \\psi(x,t)$.\n",
    "\n",
    "This is of course a potentially very complicated equation to solve (as are all partial differential equations) but let's try and understand the overall form.  Like Newton's Second Law, it tells us about how a particle will evolve given its state at a certain time.  That is - if $\\psi(x, t_0)$ is known, I can evaluate the right hand side of the equation for any value of $x$, and that tells me $\\partial \\psi/\\partial t$ for that $x$.   To make this a little more explicit:\n",
    "\n",
    "$$ \\frac{\\partial\\psi}{\\partial t} = \\frac{1}{i\\hbar}\\left[-\\frac{\\hbar^2}{2m}\\frac{\\partial^2 \\psi}{\\partial x^2} + V(x)\\psi(x)\\right] $$"
   ]
  },
  {
   "cell_type": "markdown",
   "metadata": {},
   "source": [
    "## Evolution of Momentum States\n",
    "\n",
    "We can solve the time-dependent Schr&ouml;dinger's equation explicitly in certain cases. Let us look at what happens to a state of definite momentum in a situation where $V(x) = 0$ everywhere, where we specify the constant $C$ at a time $t=t_0$:\n",
    "\n",
    "$$ \\psi(x, t_0) = C \\exp(ipx/\\hbar) $$\n",
    "\n",
    "Then, we wind up with the following equation:\n",
    "\n",
    "$$\\begin{align*}\n",
    "\\frac{\\partial\\psi}{\\partial t} &= \\frac{1}{i\\hbar}\\times -\\frac{\\hbar^2}{2m}\\frac{\\partial^2}{\\partial x^2}\\psi \\\\\n",
    "&= \\frac{i\\hbar}{2m} \\frac{\\partial^2}{\\partial x^2} [C \\exp(ipx/\\hbar)] \\\\\n",
    "&= \\frac{i\\hbar}{2m} \\frac{\\partial}{\\partial x}[C (ip/\\hbar)\\exp(ipx/\\hbar)]\\\\\n",
    "&= \\frac{i\\hbar}{2m} C (ip/\\hbar)^2\\exp(ipx/\\hbar) \\\\\n",
    "&= -i \\frac{p^2}{2m\\hbar} C \\exp(ipx/\\hbar) \\\\\n",
    "&= -i \\frac{p^2}{2m\\hbar} \\psi\n",
    "\\end{align*}$$\n",
    "\n",
    "which holds for all values of $x$.  From our knowledge of derivatives, we know that the function that has the property that $\\partial f/\\partial t = K f$ is $f = f(0) \\exp(Kt)$ (where $K$ is a constant).  We also know that $p^2/2m = (mv)^2/2m = mv^2/2 $ is the kinetic energy $E$. So we conclude that\n",
    "\n",
    "$$ \\begin{align*}\n",
    "\\psi(x, t) &= \\psi(x, t_0)\\exp(-i\\frac{p^2}{2m\\hbar}t)\\\\\n",
    "&= C\\exp(ipx/\\hbar)exp(-iEt/\\hbar)\\\\\n",
    "&= C\\exp(i(px-Et)/\\hbar)\n",
    "\\end{align*}\n",
    "$$"
   ]
  },
  {
   "cell_type": "code",
   "execution_count": null,
   "metadata": {},
   "outputs": [],
   "source": []
  }
 ],
 "metadata": {
  "celltoolbar": "Tags",
  "kernelspec": {
   "display_name": "Python 3",
   "language": "python",
   "name": "python3"
  },
  "language_info": {
   "codemirror_mode": {
    "name": "ipython",
    "version": 3
   },
   "file_extension": ".py",
   "mimetype": "text/x-python",
   "name": "python",
   "nbconvert_exporter": "python",
   "pygments_lexer": "ipython3",
   "version": "3.8.5"
  }
 },
 "nbformat": 4,
 "nbformat_minor": 4
}
